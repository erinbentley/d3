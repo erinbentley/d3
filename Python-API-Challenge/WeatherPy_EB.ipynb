{
 "cells": [
  {
   "cell_type": "markdown",
   "metadata": {},
   "source": [
    "### WeatherPy"
   ]
  },
  {
   "cell_type": "markdown",
   "metadata": {},
   "source": [
    "Data Viz Boot Camp | Python-API Homework\n",
    "\n",
    "Due Tuesday, January 7, 2020\n"
   ]
  },
  {
   "cell_type": "code",
   "execution_count": null,
   "metadata": {},
   "outputs": [],
   "source": [
    "import matplotlib.pyplot as plt\n",
    "import pandas as pd\n",
    "import numpy as np\n",
    "import requests\n",
    "import time\n",
    "\n",
    "# Import API key\n",
    "from api_keys import api_key\n",
    "\n",
    "# Incorporated citipy to determine city based on latitude and longitude\n",
    "from citipy import citipy\n",
    "\n",
    "# Output File (CSV)\n",
    "output_data_file = \"output_data/cities.csv\"\n",
    "\n",
    "# Range of latitudes and longitudes\n",
    "lat_range = (-90, 90)\n",
    "lng_range = (-180, 180)"
   ]
  },
  {
   "cell_type": "code",
   "execution_count": null,
   "metadata": {},
   "outputs": [],
   "source": [
    "# List for holding lat_lngs and cities\n",
    "lat_lngs = []\n",
    "cities = []\n",
    "\n",
    "# Create a set of random lat and lng combinations\n",
    "lats = np.random.uniform(low=-90.000, high=90.000, size=1500)\n",
    "lngs = np.random.uniform(low=-180.000, high=180.000, size=1500)\n",
    "lat_lngs = zip(lats, lngs)\n",
    "\n",
    "\n",
    "# Identify nearest city for each lat, lng combination\n",
    "for lat_lng in lat_lngs:\n",
    "    #print(lat_lngs)\n",
    "    city = citipy.nearest_city(lat_lng[0], lat_lng[1]).city_name\n",
    "    #print(city)\n",
    "    \n",
    "    # If the city is unique, then add it to a our cities list\n",
    "    if city not in cities:\n",
    "        cities.append(city)\n",
    "\n",
    "# Print the city count to confirm sufficient count\n",
    "len(cities)"
   ]
  },
  {
   "cell_type": "markdown",
   "metadata": {},
   "source": [
    "### Perform API Calls\n",
    "\n",
    "Perform a weather check on each city using a series of successive API calls.\n"
   ]
  },
  {
   "cell_type": "code",
   "execution_count": null,
   "metadata": {},
   "outputs": [],
   "source": [
    "appid = api_key\n",
    "base_url = \"api.openweathermap.org/data/2.5/weather?\"+\"&appid=\"+api_key\n",
    "record = 1\n",
    "set_num = 1\n",
    "cityinfo = []\n",
    "\n",
    "print(\"Beginning Data Retrieval\")\n",
    "print(\"-----------------------------\")\n",
    "\n",
    "for cityname in cities:\n",
    "    #print(cityname)\n",
    "    #base_url = \"http://api.openweathermap.org/data/2.5/weather?\"+\"&appid=\"+api_key+\"&q=\"+cityname\n",
    "    #print(base_url)\n",
    "\n",
    "    if record >50:\n",
    "        record = 1\n",
    "        set_num = set_num+1\n",
    "# Include a print log of each city as it'sbeing processed (with the city number and city name).\n",
    "    base_url = \"http://api.openweathermap.org/data/2.5/weather?\"+\"&appid=\"+api_key+\"&q=\"+cityname  \n",
    "    weather_response = requests.get(base_url)\n",
    "    weather_json = weather_response.json()\n",
    "    #print (weather_response)\n",
    "    #print(\"Processing Record \"+str(record)+ \" of Set \" + str(set_num) + \" | \" +str(cityname))\n",
    "    record = record+1\n",
    "    \n",
    "    if weather_json[\"cod\"]== \"200\":\n",
    "        cityinfo.append(weather_json)\n",
    "       \n",
    "        "
   ]
  },
  {
   "cell_type": "markdown",
   "metadata": {},
   "source": [
    "### Convert Raw Data to DataFrame\n",
    "\n",
    "Export the city data into a .csv.\n",
    "Display the DataFrame"
   ]
  },
  {
   "cell_type": "code",
   "execution_count": null,
   "metadata": {},
   "outputs": [],
   "source": [
    "#print(cityinfo)\n",
    "citytable = []\n",
    "\n",
    "for citydata in cityinfo:\n",
    "    citytable.append({\"City\": citydata[\"name\"],\"Cloudiness\": citydata[\"clouds\"][\"all\"],\n",
    "                      \"Country\": citydata[\"sys\"][\"country\"],\"Date\": citydata[\"dt\"],\n",
    "                      \"Humidity\": citydata[\"main\"][\"humidity\"],\"Lat\": citydata[\"coord\"][\"lat\"],\n",
    "                      \"Lng\": citydata[\"coord\"][\"lon\"],\"Max Temp\": citydata[\"main\"][\"temp_max\"],\n",
    "                      \"Wind Speed\": citydata[\"wind\"][\"speed\"]})\n",
    "      \n",
    "#city_df\n",
    "#citytable"
   ]
  },
  {
   "cell_type": "code",
   "execution_count": null,
   "metadata": {},
   "outputs": [],
   "source": [
    "city_df = pd.DataFrame(citytable)\n",
    "city_df.head()"
   ]
  },
  {
   "cell_type": "markdown",
   "metadata": {},
   "source": [
    "### Plotting the Data\n",
    "* Use proper labeling of the plots using plot titles (including date of analysis) and axes labels.\n",
    "* Save the plotted figures as .pngs."
   ]
  },
  {
   "cell_type": "markdown",
   "metadata": {},
   "source": [
    "#### Latitude vs. Temperature Plot"
   ]
  },
  {
   "cell_type": "code",
   "execution_count": null,
   "metadata": {},
   "outputs": [],
   "source": [
    "plt.figure(figsize=(10,8))\n",
    "plt.scatter(city_df[\"Lat\"],city_df[\"Max Temp\"],color=\"purple\")\n",
    "\n",
    "plt.title(\"City Latitude vs. Max Temperature (8/22/18)\")\n",
    "plt.xlabel(\"Latitude\")\n",
    "plt.ylabel(\"Max Temperature (F)\")\n",
    "plt.grid(axis = 'y')\n",
    "plt.grid(axis = 'x')\n",
    "\n",
    "# Save the Figure\n",
    "plt.savefig(\"data/lat_vs_temp.png\")\n",
    "# Show the Figure\n",
    "plt.show()"
   ]
  },
  {
   "cell_type": "markdown",
   "metadata": {},
   "source": [
    "#### Latitude vs. Humidity Plot"
   ]
  },
  {
   "cell_type": "code",
   "execution_count": null,
   "metadata": {},
   "outputs": [],
   "source": [
    "plt.figure(figsize=(10,8))\n",
    "plt.scatter(city_df[\"Lat\"], city_df[\"Humidity\"],color=\"purple\")\n",
    "\n",
    "\n",
    "plt.title(\"City Latitude vs. Humidity (8/22/18)\")\n",
    "plt.xlabel(\"Latitude\")\n",
    "plt.ylabel(\"Humidity (%)\")\n",
    "plt.grid(axis = 'y')\n",
    "plt.grid(axis = 'x')\n",
    "\n",
    "# Save the Figure\n",
    "plt.savefig(\"data/lat_vs_humidity.png\")\n",
    "# Show the Figure\n",
    "plt.show()\n",
    "\n"
   ]
  },
  {
   "cell_type": "markdown",
   "metadata": {},
   "source": [
    "#### Latitude vs. Cloudiness Plot"
   ]
  },
  {
   "cell_type": "code",
   "execution_count": null,
   "metadata": {},
   "outputs": [],
   "source": [
    "plt.figure(figsize=(10,8))\n",
    "plt.scatter(city_df[\"Lat\"], city_df[\"Cloudiness\"],color=\"purple\")\n",
    "\n",
    "plt.title(\"City Latitude vs. Cloudiness (8/22/18)\")\n",
    "plt.xlabel(\"Latitude\")\n",
    "plt.ylabel(\"Cloudiness (%)\")\n",
    "plt.grid(axis = 'y')\n",
    "plt.grid(axis = 'x')\n",
    "\n",
    "# Save the Figure\n",
    "plt.savefig(\"data/lat_vs_clouds.png\")\n",
    "# Show the Figure\n",
    "plt.show()"
   ]
  },
  {
   "cell_type": "markdown",
   "metadata": {},
   "source": [
    "#### Latitude vs. Wind Speed Plot"
   ]
  },
  {
   "cell_type": "code",
   "execution_count": null,
   "metadata": {},
   "outputs": [],
   "source": [
    "plt.figure(figsize=(10,8))\n",
    "plt.scatter(city_df[\"Lat\"], city_df[\"Wind Speed\"],color=\"purple\")\n",
    "\n",
    "plt.title(\"City Latitude vs. Wind Speed (8/22/18)\")\n",
    "plt.xlabel(\"Latitude\")\n",
    "plt.ylabel(\"Wind Speed (mph)\")\n",
    "plt.grid(axis = 'y')\n",
    "plt.grid(axis = 'x')\n",
    "\n",
    "# Save the Figure\n",
    "plt.savefig(\"data/lat_vs_wind.png\")\n",
    "# Show the Figure\n",
    "plt.show()"
   ]
  }
 ],
 "metadata": {
  "kernelspec": {
   "display_name": "virtual_environment",
   "language": "python",
   "name": "virtual_environment"
  },
  "language_info": {
   "codemirror_mode": {
    "name": "ipython",
    "version": 3
   },
   "file_extension": ".py",
   "mimetype": "text/x-python",
   "name": "python",
   "nbconvert_exporter": "python",
   "pygments_lexer": "ipython3",
   "version": "3.8.0"
  }
 },
 "nbformat": 4,
 "nbformat_minor": 4
}
